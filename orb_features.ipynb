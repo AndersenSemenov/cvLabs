{
 "cells": [
  {
   "cell_type": "code",
   "execution_count": 2,
   "metadata": {},
   "outputs": [
    {
     "data": {
      "text/plain": [
       "True"
      ]
     },
     "execution_count": 2,
     "metadata": {},
     "output_type": "execute_result"
    }
   ],
   "source": [
    "# найти все orb features точки на изображении\n",
    "import cv2 as cv\n",
    "\n",
    "image = cv.imread('resources/Gora-Beluha.jpg', cv.IMREAD_GRAYSCALE)\n",
    "orb = cv.ORB_create()\n",
    "key_points = orb.detect(image, None)\n",
    "key_points, des = orb.compute(image, key_points)\n",
    "output_image = cv.drawKeypoints(image, key_points, None, color=(0,255,0), flags=0)\n",
    "\n",
    "cv.imwrite('result/orb.jpg', output_image)"
   ]
  }
 ],
 "metadata": {
  "kernelspec": {
   "display_name": "Python 3",
   "language": "python",
   "name": "python3"
  },
  "language_info": {
   "codemirror_mode": {
    "name": "ipython",
    "version": 3
   },
   "file_extension": ".py",
   "mimetype": "text/x-python",
   "name": "python",
   "nbconvert_exporter": "python",
   "pygments_lexer": "ipython3",
   "version": "3.9.6"
  }
 },
 "nbformat": 4,
 "nbformat_minor": 2
}
