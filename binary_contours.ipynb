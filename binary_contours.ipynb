{
 "cells": [
  {
   "cell_type": "code",
   "execution_count": 1,
   "metadata": {},
   "outputs": [
    {
     "data": {
      "text/plain": [
       "True"
      ]
     },
     "execution_count": 1,
     "metadata": {},
     "output_type": "execute_result"
    }
   ],
   "source": [
    "# найти контуры на бинаризированном изображении\n",
    "import cv2 as cv\n",
    "\n",
    "image = cv.imread('resources/Gora-Beluha.jpg')\n",
    "\n",
    "gray = cv.cvtColor(image,cv.COLOR_BGR2GRAY)\n",
    "ret, thresh = cv.threshold(gray, 127, 255, cv.THRESH_BINARY)\n",
    "contours, hierarchy = cv.findContours(image=thresh, mode=cv.RETR_TREE, method=cv.CHAIN_APPROX_NONE)\n",
    "output_image = thresh.copy()\n",
    "cv.drawContours(image=output_image, contours=contours, contourIdx=-1, color=(0, 255, 0), thickness=2, lineType=cv.LINE_AA)\n",
    "                \n",
    "cv.imwrite(\"result/binary_contours.jpg\", output_image)\n"
   ]
  }
 ],
 "metadata": {
  "kernelspec": {
   "display_name": "venv",
   "language": "python",
   "name": "python3"
  },
  "language_info": {
   "codemirror_mode": {
    "name": "ipython",
    "version": 3
   },
   "file_extension": ".py",
   "mimetype": "text/x-python",
   "name": "python",
   "nbconvert_exporter": "python",
   "pygments_lexer": "ipython3",
   "version": "3.9.6"
  }
 },
 "nbformat": 4,
 "nbformat_minor": 2
}
