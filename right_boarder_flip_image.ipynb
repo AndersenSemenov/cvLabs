{
 "cells": [
  {
   "cell_type": "code",
   "execution_count": 1,
   "metadata": {},
   "outputs": [
    {
     "data": {
      "text/plain": [
       "True"
      ]
     },
     "execution_count": 1,
     "metadata": {},
     "output_type": "execute_result"
    }
   ],
   "source": [
    " # отразить изображение по правой границе\n",
    "import cv2 as cv\n",
    "\n",
    "image = cv.imread('resources/Gora-Beluha.jpg')\n",
    "\n",
    "flipped_image = cv.flip(image, 1)\n",
    "\n",
    "cv.imwrite('result/right_boarder_flipped.jpg', flipped_image)"
   ]
  }
 ],
 "metadata": {
  "kernelspec": {
   "display_name": "venv",
   "language": "python",
   "name": "python3"
  },
  "language_info": {
   "codemirror_mode": {
    "name": "ipython",
    "version": 3
   },
   "file_extension": ".py",
   "mimetype": "text/x-python",
   "name": "python",
   "nbconvert_exporter": "python",
   "pygments_lexer": "ipython3",
   "version": "3.9.6"
  }
 },
 "nbformat": 4,
 "nbformat_minor": 2
}
