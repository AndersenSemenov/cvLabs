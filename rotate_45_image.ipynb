{
 "cells": [
  {
   "cell_type": "code",
   "execution_count": 2,
   "metadata": {},
   "outputs": [
    {
     "data": {
      "text/plain": [
       "True"
      ]
     },
     "execution_count": 2,
     "metadata": {},
     "output_type": "execute_result"
    }
   ],
   "source": [
    "import cv2 as cv\n",
    "from matplotlib import pyplot as plt\n",
    "\n",
    "img = cv.imread('resources/Gora-Beluha.jpg')\n",
    "\n",
    "(h, w) = img.shape[:2]\n",
    "(cX, cY) = (w // 2, h // 2)\n",
    "# rotate our image by 45 degrees around the center of the image\n",
    "M = cv.getRotationMatrix2D((cX, cY), 45, 1.0)\n",
    "rotated = cv.warpAffine(img, M, (w, h))\n",
    "cv.imwrite('resources/45.jpg', rotated)"
   ]
  }
 ],
 "metadata": {
  "kernelspec": {
   "display_name": "venv",
   "language": "python",
   "name": "python3"
  },
  "language_info": {
   "codemirror_mode": {
    "name": "ipython",
    "version": 3
   },
   "file_extension": ".py",
   "mimetype": "text/x-python",
   "name": "python",
   "nbconvert_exporter": "python",
   "pygments_lexer": "ipython3",
   "version": "3.9.6"
  }
 },
 "nbformat": 4,
 "nbformat_minor": 2
}
