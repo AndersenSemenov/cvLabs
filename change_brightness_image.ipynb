{
 "cells": [
  {
   "cell_type": "code",
   "execution_count": 1,
   "metadata": {},
   "outputs": [
    {
     "data": {
      "text/plain": [
       "True"
      ]
     },
     "execution_count": 1,
     "metadata": {},
     "output_type": "execute_result"
    }
   ],
   "source": [
    "# изменить яркость изоббражения\n",
    "import cv2\n",
    "\n",
    "image = cv2.imread('resources/Gora-Beluha.jpg')\n",
    "\n",
    "hsv = cv2.cvtColor(image, cv2.COLOR_BGR2HSV)\n",
    "h, s, v = cv2.split(hsv)\n",
    "v += 255\n",
    "updated_hsv = cv2.merge((h, s, v))\n",
    "output_image = cv2.cvtColor(updated_hsv, cv2.COLOR_HSV2BGR)\n",
    "\n",
    "cv2.imwrite('result/brightness_changed_image.png', output_image)"
   ]
  }
 ],
 "metadata": {
  "kernelspec": {
   "display_name": "venv",
   "language": "python",
   "name": "python3"
  },
  "language_info": {
   "codemirror_mode": {
    "name": "ipython",
    "version": 3
   },
   "file_extension": ".py",
   "mimetype": "text/x-python",
   "name": "python",
   "nbconvert_exporter": "python",
   "pygments_lexer": "ipython3",
   "version": "3.9.6"
  }
 },
 "nbformat": 4,
 "nbformat_minor": 2
}
