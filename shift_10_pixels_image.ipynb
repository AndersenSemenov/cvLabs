{
 "cells": [
  {
   "cell_type": "code",
   "execution_count": 1,
   "metadata": {},
   "outputs": [
    {
     "data": {
      "text/plain": [
       "True"
      ]
     },
     "execution_count": 1,
     "metadata": {},
     "output_type": "execute_result"
    }
   ],
   "source": [
    "# сместить изображение но 10 пикселей вправо\n",
    "import numpy as np\n",
    "import cv2 as cv\n",
    "\n",
    "image = cv.imread('resources/Gora-Beluha.jpg')\n",
    "\n",
    "M = np.float32([\n",
    "\t[1, 0, 10],\n",
    "\t[0, 1, 0]\n",
    "])\n",
    "shifted_image = cv.warpAffine(image ,M, (image.shape[1], image.shape[0]))\n",
    "\n",
    "cv.imwrite('result/shifted.jpg', shifted_image)\n"
   ]
  }
 ],
 "metadata": {
  "kernelspec": {
   "display_name": "venv",
   "language": "python",
   "name": "python3"
  },
  "language_info": {
   "codemirror_mode": {
    "name": "ipython",
    "version": 3
   },
   "file_extension": ".py",
   "mimetype": "text/x-python",
   "name": "python",
   "nbconvert_exporter": "python",
   "pygments_lexer": "ipython3",
   "version": "3.9.6"
  }
 },
 "nbformat": 4,
 "nbformat_minor": 2
}
